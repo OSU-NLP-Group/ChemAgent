{
 "cells": [
  {
   "cell_type": "code",
   "execution_count": 1,
   "metadata": {},
   "outputs": [
    {
     "name": "stdout",
     "output_type": "stream",
     "text": [
      "fused_multi_tensor is not installed corrected\n",
      "fused_rounding is not installed corrected\n",
      "fused_layer_norm is not installed corrected\n",
      "fused_softmax is not installed corrected\n"
     ]
    }
   ],
   "source": [
    "import logging\n",
    "from api_keys import api_keys\n",
    "from chemagent import ChemAgent"
   ]
  },
  {
   "cell_type": "code",
   "execution_count": 2,
   "metadata": {},
   "outputs": [],
   "source": [
    "# Uncomment the following line to enable debug logging\n",
    "\n",
    "# logger = logging.getLogger('chemagent')\n",
    "# logger.setLevel(logging.DEBUG)\n",
    "# handler = logging.StreamHandler()\n",
    "# formatter = logging.Formatter(\"[%(levelname)s] %(name)s: %(message)s\")\n",
    "# handler.setFormatter(formatter)\n",
    "# logger.addHandler(handler)"
   ]
  },
  {
   "cell_type": "code",
   "execution_count": 3,
   "metadata": {},
   "outputs": [],
   "source": [
    "agent = ChemAgent(model='gpt-4o-2024-08-06', api_keys=api_keys)"
   ]
  },
  {
   "cell_type": "code",
   "execution_count": 4,
   "metadata": {},
   "outputs": [],
   "source": [
    "query = \"What is the molecular weight the chemical compound Caffeine.\""
   ]
  },
  {
   "cell_type": "code",
   "execution_count": 5,
   "metadata": {},
   "outputs": [
    {
     "name": "stderr",
     "output_type": "stream",
     "text": [
      "--- Step 1 ---\n",
      "Thought: To find the molecular weight of caffeine, I first need to obtain its SMILES representation so I can use it to calculate the molecular weight.\n",
      "Tool: Name2SMILES\n",
      "Tool Input: Caffeine\n",
      "Tool Output: CN1C=NC2=C1C(=O)N(C(=O)N2C)C\n",
      "\n",
      "\n",
      "--- Step 2 ---\n",
      "Thought: Now that I have the SMILES representation of caffeine, I will calculate its molecular weight.\n",
      "Tool: SMILES2Weight\n",
      "Tool Input: CN1C=NC2=C1C(=O)N(C(=O)N2C)C\n",
      "Tool Output: 194.08037556\n",
      "\n",
      "\n",
      "--- Step 3 ---\n",
      "Thought: The molecular weight of caffeine has been calculated using its SMILES representation.\n",
      "Answer: The molecular weight of caffeine is approximately 194.08 g/mol.\n",
      "\n",
      "\n",
      "Final Answer: The molecular weight of caffeine is approximately 194.08 g/mol.\n"
     ]
    }
   ],
   "source": [
    "# Run the agent\n",
    "final_answer, tool_use_chain, conversation, conversation_with_icl = agent.run(query)"
   ]
  },
  {
   "cell_type": "code",
   "execution_count": 6,
   "metadata": {},
   "outputs": [
    {
     "name": "stderr",
     "output_type": "stream",
     "text": [
      "--- Step 1 ---\n",
      "Thought: To find the molecular weight of Caffeine, I need to first convert its common name to its SMILES representation, then use that to calculate the molecular weight.\n",
      "\n",
      "Tool: Name2SMILES\n",
      "Tool Input: Caffeine\n",
      "Tool Output: CN1C=NC2=C1C(=O)N(C(=O)N2C)C\n",
      "\n",
      "\n",
      "--- Step 2 ---\n",
      "Thought: Now that I have the SMILES representation of caffeine, I can calculate its molecular weight using this information.\n",
      "\n",
      "Tool: SMILES2Weight\n",
      "Tool Input: CN1C=NC2=C1C(=O)N(C(=O)N2C)C\n",
      "Tool Output: 194.08037556\n",
      "\n",
      "\n",
      "--- Step 3 ---\n",
      "Thought: I have successfully obtained the molecular weight of caffeine from its SMILES representation.\n",
      "\n",
      "Answer: The molecular weight of the chemical compound Caffeine is 194.08 g/mol.\n",
      "\n",
      "\n",
      "Final Answer: 194.08 g/mol\n"
     ]
    }
   ],
   "source": [
    "# You could also use the 'do_rephrasing' and 'format' parameters to control the output\n",
    "final_answer, tool_use_chain, conversation, conversation_with_icl = agent.run(query, do_rephrasing=True, format='Only return the result number and unit.')"
   ]
  },
  {
   "cell_type": "code",
   "execution_count": null,
   "metadata": {},
   "outputs": [],
   "source": []
  }
 ],
 "metadata": {
  "kernelspec": {
   "display_name": "ca",
   "language": "python",
   "name": "python3"
  },
  "language_info": {
   "codemirror_mode": {
    "name": "ipython",
    "version": 3
   },
   "file_extension": ".py",
   "mimetype": "text/x-python",
   "name": "python",
   "nbconvert_exporter": "python",
   "pygments_lexer": "ipython3",
   "version": "3.9.19"
  }
 },
 "nbformat": 4,
 "nbformat_minor": 2
}
